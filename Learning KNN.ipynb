{
 "cells": [
  {
   "cell_type": "markdown",
   "id": "c00f63a4-02d1-4985-a8b0-ed011b5f992d",
   "metadata": {},
   "source": [
    "!pip install scikit-learn\n",
    "!pip install matplotlib\n",
    "!pip install numpy\n",
    "!pip install pandas"
   ]
  },
  {
   "cell_type": "code",
   "execution_count": null,
   "id": "fa1286ce-dddb-4a7f-af88-249487a6cf2d",
   "metadata": {},
   "outputs": [],
   "source": [
    "from sklearn.datasets import fetch_openml\n",
    "from sklearn.model_selection import train_test_split\n",
    "from sklearn.neighbors import KNeighborsClassifier\n",
    "from sklearn.metrics import accuracy_score\n",
    "import matplotlib.pyplot as plt\n",
    "import numpy as np\n",
    "\n"
   ]
  },
  {
   "cell_type": "code",
   "execution_count": null,
   "id": "3572dead-72eb-4a89-9984-771da8b78939",
   "metadata": {},
   "outputs": [],
   "source": [
    "# Load data\n",
    "mnist = fetch_openml('mnist_784', version=1)\n",
    "X, y = mnist[\"data\"], mnist[\"target\"]\n",
    "\n"
   ]
  },
  {
   "cell_type": "code",
   "execution_count": null,
   "id": "99f58d4c-67af-4f4e-a2b2-96b3e5e1e057",
   "metadata": {},
   "outputs": [],
   "source": [
    "# Convert labels from string to integers\n",
    "y = y.astype(np.uint8)\n"
   ]
  },
  {
   "cell_type": "code",
   "execution_count": null,
   "id": "cedebdbb-4af3-479f-8f9d-68aac70a8e9f",
   "metadata": {},
   "outputs": [],
   "source": [
    "# Visualize the first image\n",
    "first_image = X.to_numpy()[0].reshape(28, 28)\n",
    "plt.imshow(first_image, cmap=\"gray\")\n",
    "plt.show()"
   ]
  },
  {
   "cell_type": "code",
   "execution_count": null,
   "id": "131cae1e-99b1-43fa-9c7d-243bd19ad9a0",
   "metadata": {},
   "outputs": [],
   "source": [
    "# Split data into training and testing set (you can change the test size)\n",
    "X_train, X_test, y_train, y_test = train_test_split(X, y, test_size=0.2, random_state=42)"
   ]
  },
  {
   "cell_type": "markdown",
   "id": "67468bb0-2184-4590-b20c-acfc5659f1da",
   "metadata": {},
   "source": [
    "## Model Training "
   ]
  },
  {
   "cell_type": "code",
   "execution_count": null,
   "id": "a052b2f4-658b-4670-8edf-4e83b073a4ab",
   "metadata": {},
   "outputs": [],
   "source": [
    "# Initialize k-NN classifier and train it\n",
    "knn_clf = KNeighborsClassifier(n_neighbors=3)\n",
    "knn_clf.fit(X_train, y_train)\n"
   ]
  },
  {
   "cell_type": "code",
   "execution_count": null,
   "id": "2e33175f-2cee-4d59-be6c-75067776ba52",
   "metadata": {},
   "outputs": [],
   "source": [
    "# Make predictions\n",
    "y_pred = knn_clf.predict(X_test)"
   ]
  },
  {
   "cell_type": "markdown",
   "id": "429f457b-35ff-42e7-a1fb-6aac3685c07d",
   "metadata": {},
   "source": [
    "## Model Evaluation"
   ]
  },
  {
   "cell_type": "code",
   "execution_count": null,
   "id": "eeb2c7c6-e158-4b4b-b762-336b9a474e6c",
   "metadata": {},
   "outputs": [],
   "source": [
    "# Calculate accuracy\n",
    "accuracy = accuracy_score(y_test, y_pred)\n",
    "print(f\"Model accuracy: {accuracy * 100:.2f}%\")\n"
   ]
  },
  {
   "cell_type": "code",
   "execution_count": null,
   "id": "47f240f3-5e70-48ef-91bd-e86a322ce7e6",
   "metadata": {},
   "outputs": [],
   "source": [
    "# Ensure X_test is a NumPy array\n",
    "X_test_np = np.array(X_test)\n",
    "\n",
    "# Visualize the first 5 predictions along with their true labels\n",
    "fig, axes = plt.subplots(1, 5, figsize=(15, 3))\n",
    "for ax, image, true_label, prediction in zip(axes, X_test_np[:5], y_test[:5], y_pred[:5]):\n",
    "    ax.set_axis_off()\n",
    "    # Reshape the image for display\n",
    "    image = image.reshape(28, 28)\n",
    "    ax.imshow(image, cmap='gray', interpolation='nearest')\n",
    "    ax.set_title(f'Predicted: {prediction}\\nTrue: {true_label}')\n",
    "plt.tight_layout()\n",
    "plt.show()"
   ]
  },
  {
   "cell_type": "markdown",
   "id": "063508f0-d731-4773-8f87-91184d0acbdd",
   "metadata": {},
   "source": [
    "## Application Questions\n",
    "1- Discuss the pros and cons of the k-NN algorithm based on your experience in the lab. Consider aspects such as computation time, scalability, and accuracy.\n",
    "2- The k-NN algorithm is considered a 'lazy' learning algorithm. What does this mean, and what are the implications of this characteristic in terms of model training and prediction?"
   ]
  },
  {
   "cell_type": "markdown",
   "id": "8f916ef1-9ab2-4b07-ba24-a8ac480b851d",
   "metadata": {},
   "source": [
    "## Advance Questions\n",
    "1-If you were dealing with a much larger dataset with more features, what strategies could you use to reduce the computation time of the k-NN algorithm?\r",
    "2- Researchr the concept of overfitting and underfitting. How might these issues manifest in a k-NN model, and what strategies can be used to address them?"
   ]
  },
  {
   "cell_type": "markdown",
   "id": "cd2095e6-1008-493a-8af2-8df114f11ed4",
   "metadata": {},
   "source": [
    "## Deliverable Instructions\n",
    "Submit your lab as a reflective journal and answer the questions above in the journal.  YOU  do not need to submit your ipynb file. but you can add  a screen print of it if you want.\n"
   ]
  }
 ],
 "metadata": {
  "kernelspec": {
   "display_name": "Python 3 (ipykernel)",
   "language": "python",
   "name": "python3"
  },
  "language_info": {
   "codemirror_mode": {
    "name": "ipython",
    "version": 3
   },
   "file_extension": ".py",
   "mimetype": "text/x-python",
   "name": "python",
   "nbconvert_exporter": "python",
   "pygments_lexer": "ipython3",
   "version": "3.11.7"
  }
 },
 "nbformat": 4,
 "nbformat_minor": 5
}
